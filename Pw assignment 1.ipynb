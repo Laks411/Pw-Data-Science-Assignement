{
 "cells": [
  {
   "cell_type": "code",
   "execution_count": 1,
   "id": "8d5c4773-1297-4aea-a080-a81bbe23af57",
   "metadata": {},
   "outputs": [],
   "source": [
    "# Q1.  Explain with an example each when to use a for loop and a while loo\n"
   ]
  },
  {
   "cell_type": "code",
   "execution_count": 2,
   "id": "3b27e3ca-2f7f-452e-94e1-6a6a97966fd8",
   "metadata": {},
   "outputs": [],
   "source": [
    "# Ans. => For Loop  is a control flow statement that executes code repeatedly for a particular number of iterations.\n",
    "#      => While Loop  simply loops until a condition is False.\n"
   ]
  },
  {
   "cell_type": "code",
   "execution_count": 1,
   "id": "1eabf9f6-33fd-4179-bbbf-4e4613f21ecb",
   "metadata": {},
   "outputs": [
    {
     "name": "stdout",
     "output_type": "stream",
     "text": [
      "[2, 3, 4, 5, 6, 7]\n"
     ]
    }
   ],
   "source": [
    "# example of For loop : Make a new list B by adding +1 in every item of list A\n",
    "B=[]\n",
    "A = [1,2,3,4,5,6]\n",
    "for item in A:\n",
    "    B.append(item+1)\n",
    "else:\n",
    "    print(B)\n",
    "   \n",
    "\n"
   ]
  },
  {
   "cell_type": "code",
   "execution_count": 2,
   "id": "e5fa1832-d14a-40b8-9b45-ce1b194587f1",
   "metadata": {},
   "outputs": [
    {
     "name": "stdout",
     "output_type": "stream",
     "text": [
      "[0, 1, 4, 9, 16, 25, 36, 49, 64, 81, 100]\n"
     ]
    }
   ],
   "source": [
    " # example of while loop: making list of  square of numbers from 1 to 10\n",
    "    \n",
    "I = 0 \n",
    "l = []\n",
    "while I<=10:\n",
    "    l.append(I*I)\n",
    "    I= I+1\n",
    "else:\n",
    "    print(l)\n",
    "    "
   ]
  },
  {
   "cell_type": "code",
   "execution_count": null,
   "id": "397257b8-a1f7-46f9-8946-cc11bdc4866f",
   "metadata": {},
   "outputs": [],
   "source": [
    "#  Q2.  Write a python program to print the sum and product of the first 10 natural numbers using for \n",
    "# and while loop"
   ]
  },
  {
   "cell_type": "code",
   "execution_count": 3,
   "id": "a17d87ff-a007-46c2-9764-dee94ee71a4d",
   "metadata": {},
   "outputs": [
    {
     "name": "stdout",
     "output_type": "stream",
     "text": [
      "Sum of 10 natural numbers = 55\n"
     ]
    }
   ],
   "source": [
    "sum=0\n",
    "N=1\n",
    "while N<=10:\n",
    "    sum=sum+N\n",
    "    N=N+1\n",
    "else:\n",
    "    print(\"Sum of 10 natural numbers =\",sum)\n",
    "    "
   ]
  },
  {
   "cell_type": "code",
   "execution_count": 7,
   "id": "0a9d24df-c43f-4036-8521-0cec73119920",
   "metadata": {},
   "outputs": [
    {
     "name": "stdout",
     "output_type": "stream",
     "text": [
      "product of 10 natural numbers = 3628800\n"
     ]
    }
   ],
   "source": [
    "p= 1\n",
    "M= 1\n",
    "while M<= 10:\n",
    "    p=p*M\n",
    "    M=M+1\n",
    "else:\n",
    "    print(\"product of 10 natural numbers =\", p)"
   ]
  },
  {
   "cell_type": "code",
   "execution_count": 8,
   "id": "df735311-2df7-4ed0-b218-4f9968661608",
   "metadata": {},
   "outputs": [],
   "source": [
    "# Q3. Create a python program to compute the electricity bill for a household.\n",
    "# The per-unit charges in rupees are as follows: For the first 100 units, the user will be charged Rs. 4.5 per \n",
    "# unit, for the next 100 units, the user will be charged Rs. 6 per unit, and for the next 100 units, the user will \n",
    "# be charged Rs. 10 per unit, After 300 units and above the user will be charged Rs. 20 per unit.\n",
    "\n",
    "# You are required to take the units of electricity consumed in a month from the user as input.\n",
    "\n",
    "# Your program must pass this test case: when the unit of electricity consumed by the user in a month is \n",
    "# 310, the total electricity bill should be 2250.\n"
   ]
  },
  {
   "cell_type": "code",
   "execution_count": 4,
   "id": "6a09e373-f2b3-452d-ad3e-3cf1991ae7a2",
   "metadata": {},
   "outputs": [
    {
     "name": "stdin",
     "output_type": "stream",
     "text": [
      "Enter your units consumed in a month 310\n"
     ]
    },
    {
     "name": "stdout",
     "output_type": "stream",
     "text": [
      "Your final bill is  2250\n"
     ]
    }
   ],
   "source": [
    "unit = int(input(\"Enter your units consumed in a month\"))\n",
    "charge=0\n",
    "\n",
    "if unit <= 100:\n",
    "    charge = unit*4.5\n",
    "    print(\"Your final bill is \",charge)\n",
    "elif unit<= 200:\n",
    "    charge = (100*4.5) + ((unit-100)*6)\n",
    "    print(\"Your final bill is \",charge)\n",
    "    \n",
    "elif unit<= 300:\n",
    "    charge = (100*4.5) + (100*6) + ((unit-200)*10)\n",
    "    print(\"Your final bill is \",charge)       \n",
    "    \n",
    "else:\n",
    "    charge=  2050 + ((unit-300)*20 )\n",
    "    print(\"Your final bill is \",charge)\n",
    "\n",
    "\n"
   ]
  },
  {
   "cell_type": "code",
   "execution_count": 1,
   "id": "c61afac2-86e9-4c59-980c-a7d2cf10ddd6",
   "metadata": {},
   "outputs": [],
   "source": [
    "# 4. Create a list of numbers from 1 to 100. Use for loop and while loop to calculate the cube of each \n",
    "# number and if the cube of that number is divisible by 4 or 5 then append that number in a list and print \n",
    "# that list.\n"
   ]
  },
  {
   "cell_type": "code",
   "execution_count": 4,
   "id": "1a4efa7f-f252-43f5-937d-344111a5b650",
   "metadata": {},
   "outputs": [],
   "source": [
    "z = range(1,101)"
   ]
  },
  {
   "cell_type": "code",
   "execution_count": 24,
   "id": "cd70ec6e-63d6-4dcb-a881-4d3a5fd51946",
   "metadata": {},
   "outputs": [
    {
     "name": "stdout",
     "output_type": "stream",
     "text": [
      "[1, 8, 27, 64, 125, 216, 343, 512, 729, 1000, 1331, 1728, 2197, 2744, 3375, 4096, 4913, 5832, 6859, 8000, 9261, 10648, 12167, 13824, 15625, 17576, 19683, 21952, 24389, 27000, 29791, 32768, 35937, 39304, 42875, 46656, 50653, 54872, 59319, 64000, 68921, 74088, 79507, 85184, 91125, 97336, 103823, 110592, 117649, 125000, 132651, 140608, 148877, 157464, 166375, 175616, 185193, 195112, 205379, 216000, 226981, 238328, 250047, 262144, 274625, 287496, 300763, 314432, 328509, 343000, 357911, 373248, 389017, 405224, 421875, 438976, 456533, 474552, 493039, 512000, 531441, 551368, 571787, 592704, 614125, 636056, 658503, 681472, 704969, 729000, 753571, 778688, 804357, 830584, 857375, 884736, 912673, 941192, 970299, 1000000]\n",
      "This is the list of numbers divisible by 4 an 5 [8, 64, 125, 216, 512, 1000, 1728, 2744, 3375, 4096, 5832, 8000, 10648, 13824, 15625, 17576, 21952, 27000, 32768, 39304, 42875, 46656, 54872, 64000, 74088, 85184, 91125, 97336, 110592, 125000, 140608, 157464, 166375, 175616, 195112, 216000, 238328, 262144, 274625, 287496, 314432, 343000, 373248, 405224, 421875, 438976, 474552, 512000, 551368, 592704, 614125, 636056, 681472, 729000, 778688, 830584, 857375, 884736, 941192, 1000000]\n"
     ]
    }
   ],
   "source": [
    "z2 =[]\n",
    "z1 =[]\n",
    "for i in z:\n",
    "    z1.append(i*i*i)\n",
    "    \n",
    "else:\n",
    "    print(z1)\n",
    "\n",
    "for item in z1:\n",
    "    if item % 5 == 0 :\n",
    "        z2.append(item)\n",
    "        \n",
    "    elif item % 4 == 0:\n",
    "        z2.append(item)\n",
    "else:\n",
    "    print(\"This is the list of numbers divisible by 4 an 5\", z2)\n",
    "    \n",
    "    \n",
    "    \n",
    "    \n"
   ]
  },
  {
   "cell_type": "code",
   "execution_count": 25,
   "id": "5d7ee819-487b-41e3-b725-6520e80c4a9b",
   "metadata": {},
   "outputs": [],
   "source": [
    "# Q5.  Write a program to filter count vowels in the below-given string.\n",
    "\n",
    "# string = \"I want to become a data scientist\""
   ]
  },
  {
   "cell_type": "code",
   "execution_count": 37,
   "id": "8fbcde5b-dd26-4ec6-9920-74782aa71e5f",
   "metadata": {},
   "outputs": [
    {
     "name": "stdout",
     "output_type": "stream",
     "text": [
      "Total number of vowels in string = 12\n"
     ]
    }
   ],
   "source": [
    "Sentence = \"I want to become a data scientist\"\n",
    "count=0\n",
    "vowels = [\"a\",\"e\",\"i\",\"o\",\"u\",\"A\",\"E\",\"I\",\"O\",\"U\"]\n",
    "\n",
    "for item in Sentence:\n",
    "    if  item in vowels:\n",
    "        \n",
    "        count = count+1\n",
    "else:\n",
    "    print(\"Total number of vowels in string =\",count)        \n",
    "    "
   ]
  },
  {
   "cell_type": "code",
   "execution_count": null,
   "id": "557f1cb9-d6c2-432e-8634-fccfcb0d57c4",
   "metadata": {},
   "outputs": [],
   "source": [
    "# -------- End --------------"
   ]
  }
 ],
 "metadata": {
  "kernelspec": {
   "display_name": "Python 3 (ipykernel)",
   "language": "python",
   "name": "python3"
  },
  "language_info": {
   "codemirror_mode": {
    "name": "ipython",
    "version": 3
   },
   "file_extension": ".py",
   "mimetype": "text/x-python",
   "name": "python",
   "nbconvert_exporter": "python",
   "pygments_lexer": "ipython3",
   "version": "3.10.8"
  }
 },
 "nbformat": 4,
 "nbformat_minor": 5
}
